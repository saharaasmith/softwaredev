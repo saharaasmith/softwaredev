{
 "cells": [
  {
   "cell_type": "code",
   "execution_count": 1,
   "id": "e2eb6e2c-f391-44e2-9242-c35cd62e65ca",
   "metadata": {},
   "outputs": [
    {
     "name": "stdout",
     "output_type": "stream",
     "text": [
      "Open 9-5 daily\n"
     ]
    }
   ],
   "source": [
    "# 11.1\n",
    "import zoo\n",
    "zoo.hours()"
   ]
  },
  {
   "cell_type": "code",
   "execution_count": 2,
   "id": "064fe591-9683-40c9-a18b-8835c65d9c87",
   "metadata": {},
   "outputs": [
    {
     "name": "stdout",
     "output_type": "stream",
     "text": [
      "Open 9-5 daily\n"
     ]
    }
   ],
   "source": [
    "# 11.2\n",
    "import zoo\n",
    "menagerie = zoo\n",
    "menagerie.hours()"
   ]
  },
  {
   "cell_type": "code",
   "execution_count": 17,
   "id": "bdb43b18-104e-49d8-93e1-b26dd2bc67be",
   "metadata": {},
   "outputs": [
    {
     "name": "stdout",
     "output_type": "stream",
     "text": [
      "Removed existing database file: books.db\n",
      "Database 'books.db' and table 'book' created successfully.\n",
      "Created CSV file: books2.csv\n",
      "Data from 'books2.csv' inserted into 'book' table successfully.\n",
      "\n",
      "Verifying data in 'book' table:\n",
      "Titles in alphabetical order:\n",
      "- Perdido Street Station\n",
      "- Small Gods\n",
      "- The Spellman Files\n",
      "- The Weirdstone of Brisingamen\n",
      "- Thud!\n",
      "\n",
      "All columns in order of publication (year):\n",
      "- 1960: The Weirdstone of Brisingamen — Alan Garner\n",
      "- 1992: Small Gods — Terry Pratchett\n",
      "- 2000: Perdido Street Station — China Miéville\n",
      "- 2005: Thud! — Terry Pratchett\n",
      "- 2007: The Spellman Files — Lisa Lutz\n",
      "\n",
      "Database connection closed.\n",
      "('The Weirdstone of Brisingamen', 'Alan Garner', 1960)\n",
      "('Perdido Street Station', 'China Miéville', 2000)\n",
      "('Thud!', 'Terry Pratchett', 2005)\n",
      "('The Spellman Files', 'Lisa Lutz', 2007)\n",
      "('Small Gods', 'Terry Pratchett', 1992)\n"
     ]
    }
   ],
   "source": [
    "# 16.2\n",
    "%run DatabaseCreation\n",
    "import sqlite3\n",
    "connect = sqlite3.connect('books.db')\n",
    "cursor = connect.cursor()\n",
    "info = \"Select * FROM Book\"\n",
    "cursor.execute(info)\n",
    "book = cursor.fetchall()\n",
    "for title in book:\n",
    "    print(title)"
   ]
  },
  {
   "cell_type": "code",
   "execution_count": null,
   "id": "e9d0844c-37f7-4688-a311-ff08e11dccb6",
   "metadata": {},
   "outputs": [],
   "source": []
  }
 ],
 "metadata": {
  "kernelspec": {
   "display_name": "Python [conda env:base] *",
   "language": "python",
   "name": "conda-base-py"
  },
  "language_info": {
   "codemirror_mode": {
    "name": "ipython",
    "version": 3
   },
   "file_extension": ".py",
   "mimetype": "text/x-python",
   "name": "python",
   "nbconvert_exporter": "python",
   "pygments_lexer": "ipython3",
   "version": "3.13.5"
  }
 },
 "nbformat": 4,
 "nbformat_minor": 5
}
