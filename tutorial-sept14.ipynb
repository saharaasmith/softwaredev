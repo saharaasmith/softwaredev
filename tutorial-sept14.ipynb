{
 "cells": [
  {
   "cell_type": "code",
   "execution_count": null,
   "id": "424f37cf-5b36-4ad1-ae2f-0ae17baa8b9a",
   "metadata": {},
   "outputs": [],
   "source": [
    "# Sort 0s, 1s and 2s\n",
    "class Solution:\n",
    "    def sort012(self, arr):\n",
    "        n = len(arr)\n",
    "        lo = 0\n",
    "        hi = n - 1\n",
    "        mid = 0\n",
    "        \n",
    "        while mid <= hi:\n",
    "            if arr[mid] == 0:\n",
    "                arr[lo], arr[mid] = arr[mid], arr[lo]\n",
    "                lo = lo + 1\n",
    "                mid = mid + 1\n",
    "                \n",
    "            elif arr[mid] == 1:\n",
    "                mid = mid + 1\n",
    "                    \n",
    "            else:\n",
    "                arr[mid], arr[hi] = arr[hi], arr[mid]\n",
    "                hi = hi - 1\n",
    "                    \n",
    "        return arr"
   ]
  },
  {
   "cell_type": "code",
   "execution_count": null,
   "id": "36008791-faa9-40de-9e31-79473b94d451",
   "metadata": {},
   "outputs": [],
   "source": [
    "# Binary Search\n",
    "class Solution:\n",
    "    def binarysearch(self, arr, k):\n",
    "        left, right = 0, len(arr) - 1\n",
    "        result = -1\n",
    "        \n",
    "        while left <= right:\n",
    "            mid = left + (right - left) // 2\n",
    "            if arr[mid] == k:\n",
    "                result = mid\n",
    "                right = mid - 1\n",
    "            elif arr[mid] < k:\n",
    "                left = mid + 1\n",
    "            else:\n",
    "                right = mid -1\n",
    "        return result"
   ]
  }
 ],
 "metadata": {
  "kernelspec": {
   "display_name": "Python [conda env:base] *",
   "language": "python",
   "name": "conda-base-py"
  },
  "language_info": {
   "codemirror_mode": {
    "name": "ipython",
    "version": 3
   },
   "file_extension": ".py",
   "mimetype": "text/x-python",
   "name": "python",
   "nbconvert_exporter": "python",
   "pygments_lexer": "ipython3",
   "version": "3.13.5"
  }
 },
 "nbformat": 4,
 "nbformat_minor": 5
}
